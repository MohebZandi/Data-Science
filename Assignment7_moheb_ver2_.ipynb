{
 "cells": [
  {
   "cell_type": "code",
   "execution_count": 2,
   "id": "06644667",
   "metadata": {},
   "outputs": [],
   "source": [
    "import numpy as np\n",
    "import pandas as pd\n",
    "  \n",
    "from sklearn.linear_model import Ridge, RidgeCV, Lasso, LassoCV ,LinearRegression\n",
    "from sklearn.preprocessing import StandardScaler\n",
    "from sklearn.model_selection import train_test_split, RepeatedKFold ,cross_val_score\n",
    "#import statsmodels.formula.api as smf\n",
    "import statsmodels.api as sm\n",
    "from sklearn.metrics import mean_squared_error\n",
    "import matplotlib.pyplot as plt\n",
    "import seaborn as sns\n",
    "from sklearn.model_selection import GridSearchCV"
   ]
  },
  {
   "cell_type": "code",
   "execution_count": 3,
   "id": "fe7ba706",
   "metadata": {},
   "outputs": [
    {
     "data": {
      "text/html": [
       "<div>\n",
       "<style scoped>\n",
       "    .dataframe tbody tr th:only-of-type {\n",
       "        vertical-align: middle;\n",
       "    }\n",
       "\n",
       "    .dataframe tbody tr th {\n",
       "        vertical-align: top;\n",
       "    }\n",
       "\n",
       "    .dataframe thead th {\n",
       "        text-align: right;\n",
       "    }\n",
       "</style>\n",
       "<table border=\"1\" class=\"dataframe\">\n",
       "  <thead>\n",
       "    <tr style=\"text-align: right;\">\n",
       "      <th></th>\n",
       "      <th>Ozone</th>\n",
       "      <th>Solar.R</th>\n",
       "      <th>Wind</th>\n",
       "      <th>Temp</th>\n",
       "    </tr>\n",
       "  </thead>\n",
       "  <tbody>\n",
       "    <tr>\n",
       "      <th>0</th>\n",
       "      <td>41.0</td>\n",
       "      <td>190.0</td>\n",
       "      <td>7.4</td>\n",
       "      <td>67</td>\n",
       "    </tr>\n",
       "    <tr>\n",
       "      <th>1</th>\n",
       "      <td>36.0</td>\n",
       "      <td>118.0</td>\n",
       "      <td>8.0</td>\n",
       "      <td>72</td>\n",
       "    </tr>\n",
       "    <tr>\n",
       "      <th>2</th>\n",
       "      <td>12.0</td>\n",
       "      <td>149.0</td>\n",
       "      <td>12.6</td>\n",
       "      <td>74</td>\n",
       "    </tr>\n",
       "    <tr>\n",
       "      <th>3</th>\n",
       "      <td>18.0</td>\n",
       "      <td>313.0</td>\n",
       "      <td>11.5</td>\n",
       "      <td>62</td>\n",
       "    </tr>\n",
       "    <tr>\n",
       "      <th>4</th>\n",
       "      <td>NaN</td>\n",
       "      <td>NaN</td>\n",
       "      <td>14.3</td>\n",
       "      <td>56</td>\n",
       "    </tr>\n",
       "  </tbody>\n",
       "</table>\n",
       "</div>"
      ],
      "text/plain": [
       "   Ozone  Solar.R  Wind  Temp\n",
       "0   41.0    190.0   7.4    67\n",
       "1   36.0    118.0   8.0    72\n",
       "2   12.0    149.0  12.6    74\n",
       "3   18.0    313.0  11.5    62\n",
       "4    NaN      NaN  14.3    56"
      ]
     },
     "execution_count": 3,
     "metadata": {},
     "output_type": "execute_result"
    }
   ],
   "source": [
    "# Import air quality\n",
    "df_airquality = pd.read_csv('airquality.csv',usecols = ['Ozone','Solar.R','Wind','Temp'])\n",
    "df_airquality.head()"
   ]
  },
  {
   "cell_type": "markdown",
   "id": "701606b0",
   "metadata": {},
   "source": [
    "**Adding 'TWcp'Column and 'TWrat' Column to the df_airquality**"
   ]
  },
  {
   "cell_type": "code",
   "execution_count": 4,
   "id": "3d20bbfb",
   "metadata": {},
   "outputs": [
    {
     "data": {
      "text/plain": [
       "Ozone      False\n",
       "Solar.R    False\n",
       "Wind       False\n",
       "Temp       False\n",
       "TWcp       False\n",
       "TWrat      False\n",
       "dtype: bool"
      ]
     },
     "execution_count": 4,
     "metadata": {},
     "output_type": "execute_result"
    }
   ],
   "source": [
    "df_airquality['TWcp'] = np.round(df_airquality['Temp']* df_airquality['Wind'],2)\n",
    "df_airquality['TWrat'] = np.round(df_airquality['Temp']/ df_airquality['Wind'],2)\n",
    "\n",
    "df_airquality = df_airquality.dropna()\n",
    "\n",
    "df_airquality.isna().any()\n"
   ]
  },
  {
   "cell_type": "code",
   "execution_count": 5,
   "id": "021e73e5",
   "metadata": {},
   "outputs": [
    {
     "data": {
      "text/html": [
       "<div>\n",
       "<style scoped>\n",
       "    .dataframe tbody tr th:only-of-type {\n",
       "        vertical-align: middle;\n",
       "    }\n",
       "\n",
       "    .dataframe tbody tr th {\n",
       "        vertical-align: top;\n",
       "    }\n",
       "\n",
       "    .dataframe thead th {\n",
       "        text-align: right;\n",
       "    }\n",
       "</style>\n",
       "<table border=\"1\" class=\"dataframe\">\n",
       "  <thead>\n",
       "    <tr style=\"text-align: right;\">\n",
       "      <th></th>\n",
       "      <th>Ozone</th>\n",
       "      <th>Solar.R</th>\n",
       "      <th>Wind</th>\n",
       "      <th>Temp</th>\n",
       "      <th>TWcp</th>\n",
       "      <th>TWrat</th>\n",
       "    </tr>\n",
       "  </thead>\n",
       "  <tbody>\n",
       "    <tr>\n",
       "      <th>0</th>\n",
       "      <td>41.0</td>\n",
       "      <td>190.0</td>\n",
       "      <td>7.4</td>\n",
       "      <td>67</td>\n",
       "      <td>495.8</td>\n",
       "      <td>9.05</td>\n",
       "    </tr>\n",
       "    <tr>\n",
       "      <th>1</th>\n",
       "      <td>36.0</td>\n",
       "      <td>118.0</td>\n",
       "      <td>8.0</td>\n",
       "      <td>72</td>\n",
       "      <td>576.0</td>\n",
       "      <td>9.00</td>\n",
       "    </tr>\n",
       "    <tr>\n",
       "      <th>2</th>\n",
       "      <td>12.0</td>\n",
       "      <td>149.0</td>\n",
       "      <td>12.6</td>\n",
       "      <td>74</td>\n",
       "      <td>932.4</td>\n",
       "      <td>5.87</td>\n",
       "    </tr>\n",
       "    <tr>\n",
       "      <th>3</th>\n",
       "      <td>18.0</td>\n",
       "      <td>313.0</td>\n",
       "      <td>11.5</td>\n",
       "      <td>62</td>\n",
       "      <td>713.0</td>\n",
       "      <td>5.39</td>\n",
       "    </tr>\n",
       "    <tr>\n",
       "      <th>6</th>\n",
       "      <td>23.0</td>\n",
       "      <td>299.0</td>\n",
       "      <td>8.6</td>\n",
       "      <td>65</td>\n",
       "      <td>559.0</td>\n",
       "      <td>7.56</td>\n",
       "    </tr>\n",
       "  </tbody>\n",
       "</table>\n",
       "</div>"
      ],
      "text/plain": [
       "   Ozone  Solar.R  Wind  Temp   TWcp  TWrat\n",
       "0   41.0    190.0   7.4    67  495.8   9.05\n",
       "1   36.0    118.0   8.0    72  576.0   9.00\n",
       "2   12.0    149.0  12.6    74  932.4   5.87\n",
       "3   18.0    313.0  11.5    62  713.0   5.39\n",
       "6   23.0    299.0   8.6    65  559.0   7.56"
      ]
     },
     "execution_count": 5,
     "metadata": {},
     "output_type": "execute_result"
    }
   ],
   "source": [
    "df_airquality.head()"
   ]
  },
  {
   "cell_type": "markdown",
   "id": "c82d9b5f",
   "metadata": {},
   "source": [
    "# Ridge Regression or L2 Regularization\n",
    "\n"
   ]
  },
  {
   "cell_type": "markdown",
   "id": "26a8edb1",
   "metadata": {},
   "source": [
    "### Data and Setup"
   ]
  },
  {
   "cell_type": "code",
   "execution_count": 6,
   "id": "863fb6e0",
   "metadata": {},
   "outputs": [],
   "source": [
    "X = df_airquality.drop('Ozone',axis=1)\n",
    "y = df_airquality['Ozone']"
   ]
  },
  {
   "cell_type": "code",
   "execution_count": 7,
   "id": "694dbc9a",
   "metadata": {},
   "outputs": [],
   "source": [
    "# X.head()\n",
    "# y.head()"
   ]
  },
  {
   "cell_type": "markdown",
   "id": "30f8d3ec",
   "metadata": {},
   "source": [
    "# Train | Test Split"
   ]
  },
  {
   "cell_type": "code",
   "execution_count": 8,
   "id": "acf4d468",
   "metadata": {},
   "outputs": [],
   "source": [
    "X_train, X_test , y_train, y_test = train_test_split(X, y, test_size=0.3, random_state=1)\n"
   ]
  },
  {
   "cell_type": "markdown",
   "id": "3e9bafb1",
   "metadata": {},
   "source": [
    "# Scaling the Data"
   ]
  },
  {
   "cell_type": "code",
   "execution_count": 9,
   "id": "89ba0e00",
   "metadata": {},
   "outputs": [],
   "source": [
    "scaler = StandardScaler()"
   ]
  },
  {
   "cell_type": "code",
   "execution_count": 10,
   "id": "4a45d278",
   "metadata": {},
   "outputs": [
    {
     "data": {
      "text/plain": [
       "StandardScaler()"
      ]
     },
     "execution_count": 10,
     "metadata": {},
     "output_type": "execute_result"
    }
   ],
   "source": [
    "scaler.fit(X_train)"
   ]
  },
  {
   "cell_type": "markdown",
   "id": "3a5d8a51",
   "metadata": {},
   "source": [
    "# Scaling X_tran and X_test"
   ]
  },
  {
   "cell_type": "code",
   "execution_count": 11,
   "id": "6aeb61af",
   "metadata": {},
   "outputs": [],
   "source": [
    "X_train = scaler.transform(X_train)\n",
    "X_test = scaler.transform(X_test)"
   ]
  },
  {
   "cell_type": "markdown",
   "id": "e71d67eb",
   "metadata": {},
   "source": [
    "## 1-a )Answering Choosing an alpha value with Cross-Validation through RidgeCV "
   ]
  },
  {
   "cell_type": "code",
   "execution_count": 12,
   "id": "2849ea05",
   "metadata": {},
   "outputs": [
    {
     "data": {
      "text/plain": [
       "RidgeCV(alphas=array([0.000e+00, 5.000e-02, 1.000e-01, ..., 9.985e+01, 9.990e+01,\n",
       "       9.995e+01]),\n",
       "        cv=RepeatedKFold(n_repeats=1, n_splits=10, random_state=1),\n",
       "        scoring='neg_mean_squared_error')"
      ]
     },
     "execution_count": 12,
     "metadata": {},
     "output_type": "execute_result"
    }
   ],
   "source": [
    "CV10 = RepeatedKFold(n_splits=10, n_repeats=1, random_state=1)\n",
    "ridge_cv_model = RidgeCV(alphas=np.arange(0, 100, 0.05), cv=CV10, scoring='neg_mean_squared_error')\n",
    "ridge_cv_model.fit(X_train,y_train)"
   ]
  },
  {
   "cell_type": "code",
   "execution_count": 13,
   "id": "5e7c3530",
   "metadata": {},
   "outputs": [
    {
     "name": "stdout",
     "output_type": "stream",
     "text": [
      "alpha is :\n",
      "  9.85 \n",
      " --------------------------------------------------\n"
     ]
    }
   ],
   "source": [
    "print('alpha is :\\n ' ,np.round(ridge_cv_model.alpha_,2),'\\n' ,50*\"-\")\n"
   ]
  },
  {
   "cell_type": "markdown",
   "id": "9cb93581",
   "metadata": {},
   "source": [
    "## 1-b )Answering:\n"
   ]
  },
  {
   "cell_type": "code",
   "execution_count": 14,
   "id": "1adc50c9",
   "metadata": {},
   "outputs": [
    {
     "name": "stdout",
     "output_type": "stream",
     "text": [
      "coefs are :\n"
     ]
    },
    {
     "data": {
      "text/plain": [
       "array([ 6.33886605, -2.14576374, 12.6012792 , -1.92722447, 11.15683668])"
      ]
     },
     "execution_count": 14,
     "metadata": {},
     "output_type": "execute_result"
    }
   ],
   "source": [
    "print('coefs are :')\n",
    "ridge_cv_model.coef_\n"
   ]
  },
  {
   "cell_type": "markdown",
   "id": "5fb2df19",
   "metadata": {},
   "source": [
    "# least_squares_model"
   ]
  },
  {
   "cell_type": "code",
   "execution_count": 15,
   "id": "418f2c27",
   "metadata": {},
   "outputs": [
    {
     "name": "stdout",
     "output_type": "stream",
     "text": [
      "least_squares_model.coef_ are :\n"
     ]
    },
    {
     "data": {
      "text/plain": [
       "array([  7.34044591,  33.06460397,  27.99188372, -34.86860967,\n",
       "         7.31588348])"
      ]
     },
     "execution_count": 15,
     "metadata": {},
     "output_type": "execute_result"
    }
   ],
   "source": [
    "least_squares_model = LinearRegression().fit(X_train,y_train)\n",
    "print('least_squares_model.coef_ are :')\n",
    "\n",
    "least_squares_model.coef_"
   ]
  },
  {
   "cell_type": "code",
   "execution_count": 16,
   "id": "399ee8ff",
   "metadata": {},
   "outputs": [
    {
     "data": {
      "text/html": [
       "<div>\n",
       "<style scoped>\n",
       "    .dataframe tbody tr th:only-of-type {\n",
       "        vertical-align: middle;\n",
       "    }\n",
       "\n",
       "    .dataframe tbody tr th {\n",
       "        vertical-align: top;\n",
       "    }\n",
       "\n",
       "    .dataframe thead th {\n",
       "        text-align: right;\n",
       "    }\n",
       "</style>\n",
       "<table border=\"1\" class=\"dataframe\">\n",
       "  <thead>\n",
       "    <tr style=\"text-align: right;\">\n",
       "      <th></th>\n",
       "      <th>ridge_cv_model</th>\n",
       "      <th>least_squares_model</th>\n",
       "    </tr>\n",
       "  </thead>\n",
       "  <tbody>\n",
       "    <tr>\n",
       "      <th>1</th>\n",
       "      <td>6.34</td>\n",
       "      <td>7.34</td>\n",
       "    </tr>\n",
       "    <tr>\n",
       "      <th>2</th>\n",
       "      <td>-2.15</td>\n",
       "      <td>33.06</td>\n",
       "    </tr>\n",
       "    <tr>\n",
       "      <th>3</th>\n",
       "      <td>12.60</td>\n",
       "      <td>27.99</td>\n",
       "    </tr>\n",
       "    <tr>\n",
       "      <th>4</th>\n",
       "      <td>-1.93</td>\n",
       "      <td>-34.87</td>\n",
       "    </tr>\n",
       "    <tr>\n",
       "      <th>5</th>\n",
       "      <td>11.16</td>\n",
       "      <td>7.32</td>\n",
       "    </tr>\n",
       "  </tbody>\n",
       "</table>\n",
       "</div>"
      ],
      "text/plain": [
       "   ridge_cv_model  least_squares_model\n",
       "1            6.34                 7.34\n",
       "2           -2.15                33.06\n",
       "3           12.60                27.99\n",
       "4           -1.93               -34.87\n",
       "5           11.16                 7.32"
      ]
     },
     "execution_count": 16,
     "metadata": {},
     "output_type": "execute_result"
    }
   ],
   "source": [
    "my_dict = {'ridge_cv_model':ridge_cv_model.coef_.reshape(-1),'least_squares_model': least_squares_model.coef_.reshape(-1)}\n",
    "df_compare = pd.DataFrame(my_dict,index = [1,2,3,4,5])\n",
    "np.round(df_compare,2)"
   ]
  },
  {
   "cell_type": "code",
   "execution_count": 17,
   "id": "dcdee52c",
   "metadata": {},
   "outputs": [
    {
     "data": {
      "text/html": [
       "<div>\n",
       "<style scoped>\n",
       "    .dataframe tbody tr th:only-of-type {\n",
       "        vertical-align: middle;\n",
       "    }\n",
       "\n",
       "    .dataframe tbody tr th {\n",
       "        vertical-align: top;\n",
       "    }\n",
       "\n",
       "    .dataframe thead th {\n",
       "        text-align: right;\n",
       "    }\n",
       "</style>\n",
       "<table border=\"1\" class=\"dataframe\">\n",
       "  <thead>\n",
       "    <tr style=\"text-align: right;\">\n",
       "      <th></th>\n",
       "      <th>ridge_cv_model</th>\n",
       "      <th>least_squares_model</th>\n",
       "    </tr>\n",
       "  </thead>\n",
       "  <tbody>\n",
       "    <tr>\n",
       "      <th>1</th>\n",
       "      <td>6.338866</td>\n",
       "      <td>7.340446</td>\n",
       "    </tr>\n",
       "    <tr>\n",
       "      <th>2</th>\n",
       "      <td>-2.145764</td>\n",
       "      <td>33.064604</td>\n",
       "    </tr>\n",
       "    <tr>\n",
       "      <th>3</th>\n",
       "      <td>12.601279</td>\n",
       "      <td>27.991884</td>\n",
       "    </tr>\n",
       "  </tbody>\n",
       "</table>\n",
       "</div>"
      ],
      "text/plain": [
       "   ridge_cv_model  least_squares_model\n",
       "1        6.338866             7.340446\n",
       "2       -2.145764            33.064604\n",
       "3       12.601279            27.991884"
      ]
     },
     "execution_count": 17,
     "metadata": {},
     "output_type": "execute_result"
    }
   ],
   "source": [
    "df_ridge_smaller = df_compare[df_compare['ridge_cv_model']< df_compare['least_squares_model']]\n",
    "df_ridge_smaller"
   ]
  },
  {
   "cell_type": "code",
   "execution_count": 18,
   "id": "951315c9",
   "metadata": {},
   "outputs": [
    {
     "data": {
      "text/html": [
       "<div>\n",
       "<style scoped>\n",
       "    .dataframe tbody tr th:only-of-type {\n",
       "        vertical-align: middle;\n",
       "    }\n",
       "\n",
       "    .dataframe tbody tr th {\n",
       "        vertical-align: top;\n",
       "    }\n",
       "\n",
       "    .dataframe thead th {\n",
       "        text-align: right;\n",
       "    }\n",
       "</style>\n",
       "<table border=\"1\" class=\"dataframe\">\n",
       "  <thead>\n",
       "    <tr style=\"text-align: right;\">\n",
       "      <th></th>\n",
       "      <th>ridge_cv_model</th>\n",
       "      <th>least_squares_model</th>\n",
       "    </tr>\n",
       "  </thead>\n",
       "  <tbody>\n",
       "    <tr>\n",
       "      <th>4</th>\n",
       "      <td>-1.927224</td>\n",
       "      <td>-34.868610</td>\n",
       "    </tr>\n",
       "    <tr>\n",
       "      <th>5</th>\n",
       "      <td>11.156837</td>\n",
       "      <td>7.315883</td>\n",
       "    </tr>\n",
       "  </tbody>\n",
       "</table>\n",
       "</div>"
      ],
      "text/plain": [
       "   ridge_cv_model  least_squares_model\n",
       "4       -1.927224           -34.868610\n",
       "5       11.156837             7.315883"
      ]
     },
     "execution_count": 18,
     "metadata": {},
     "output_type": "execute_result"
    }
   ],
   "source": [
    "df_ridge_bigger = df_compare[df_compare['ridge_cv_model']> df_compare['least_squares_model']]\n",
    "df_ridge_bigger"
   ]
  },
  {
   "cell_type": "markdown",
   "id": "0f45d589",
   "metadata": {},
   "source": [
    "# 1-b Answeing report:"
   ]
  },
  {
   "cell_type": "markdown",
   "id": "672d019e",
   "metadata": {},
   "source": [
    "## According to upper Dataframes result ,there aren't all ridge estimates smaller than least squares, feature 1,feature 2 and feature 3 in ridge model are smaller ,  4th and 5th featire in ridge model are larger than least squares"
   ]
  },
  {
   "cell_type": "markdown",
   "id": "7b0c7a2f",
   "metadata": {},
   "source": [
    "# 2- LASSO Regression or L1 Regularization "
   ]
  },
  {
   "cell_type": "code",
   "execution_count": 19,
   "id": "ccca8ad4",
   "metadata": {},
   "outputs": [],
   "source": [
    "CV10 = RepeatedKFold(n_splits=10, n_repeats=1, random_state=1)\n",
    "LASSO_cv_model = LassoCV(alphas=np.arange(0.001, 100, 0.05), cv=CV10,  max_iter = 100000)"
   ]
  },
  {
   "cell_type": "code",
   "execution_count": 20,
   "id": "5dde6317",
   "metadata": {},
   "outputs": [
    {
     "data": {
      "text/plain": [
       "LassoCV(alphas=array([1.0000e-03, 5.1000e-02, 1.0100e-01, ..., 9.9851e+01, 9.9901e+01,\n",
       "       9.9951e+01]),\n",
       "        cv=RepeatedKFold(n_repeats=1, n_splits=10, random_state=1),\n",
       "        max_iter=100000)"
      ]
     },
     "execution_count": 20,
     "metadata": {},
     "output_type": "execute_result"
    }
   ],
   "source": [
    "LASSO_cv_model.fit(X_train,y_train)"
   ]
  },
  {
   "cell_type": "code",
   "execution_count": 21,
   "id": "ff84eb26",
   "metadata": {},
   "outputs": [
    {
     "name": "stdout",
     "output_type": "stream",
     "text": [
      "alpha is :\n",
      "  1.101\n"
     ]
    }
   ],
   "source": [
    "print('alpha is :\\n ' ,np.round(LASSO_cv_model.alpha_,3))"
   ]
  },
  {
   "cell_type": "markdown",
   "id": "8a8d3a24",
   "metadata": {},
   "source": [
    "## Note: in this Assignment GridSearchCV has been used to calculate 1SE alpha"
   ]
  },
  {
   "cell_type": "code",
   "execution_count": 22,
   "id": "c1f19f0d",
   "metadata": {},
   "outputs": [],
   "source": [
    "CV10 = RepeatedKFold(n_splits=10, n_repeats=1, random_state=1)\n",
    "param_grid = {'alpha': np.arange(0.001, 100, 0.05), 'max_iter': [100000]}\n",
    "lasso_gcv = GridSearchCV(Lasso(), param_grid= param_grid, cv= CV10, scoring= 'neg_mean_squared_error', n_jobs= -1)"
   ]
  },
  {
   "cell_type": "code",
   "execution_count": 23,
   "id": "c44adb2d",
   "metadata": {},
   "outputs": [
    {
     "data": {
      "text/plain": [
       "GridSearchCV(cv=RepeatedKFold(n_repeats=1, n_splits=10, random_state=1),\n",
       "             estimator=Lasso(), n_jobs=-1,\n",
       "             param_grid={'alpha': array([1.0000e-03, 5.1000e-02, 1.0100e-01, ..., 9.9851e+01, 9.9901e+01,\n",
       "       9.9951e+01]),\n",
       "                         'max_iter': [100000]},\n",
       "             scoring='neg_mean_squared_error')"
      ]
     },
     "execution_count": 23,
     "metadata": {},
     "output_type": "execute_result"
    }
   ],
   "source": [
    "lasso_gcv.fit(X_train, y_train)"
   ]
  },
  {
   "cell_type": "code",
   "execution_count": 24,
   "id": "c9a16f87",
   "metadata": {},
   "outputs": [
    {
     "data": {
      "text/plain": [
       "Lasso(alpha=1.101, max_iter=100000)"
      ]
     },
     "execution_count": 24,
     "metadata": {},
     "output_type": "execute_result"
    }
   ],
   "source": [
    "lasso_gcv.best_estimator_"
   ]
  },
  {
   "cell_type": "code",
   "execution_count": 25,
   "id": "82bd64bd",
   "metadata": {},
   "outputs": [
    {
     "data": {
      "text/plain": [
       "(-491.7989480146936, -409.7023805412343)"
      ]
     },
     "execution_count": 25,
     "metadata": {},
     "output_type": "execute_result"
    }
   ],
   "source": [
    "lasso_gcv.best_score_ , lasso_gcv.score(X_train, y_train)"
   ]
  },
  {
   "cell_type": "code",
   "execution_count": 26,
   "id": "ad30b2a6",
   "metadata": {},
   "outputs": [],
   "source": [
    "# lasso_gcv.best_index_"
   ]
  },
  {
   "cell_type": "code",
   "execution_count": 27,
   "id": "22414ea3",
   "metadata": {},
   "outputs": [
    {
     "data": {
      "text/plain": [
       "dict_keys(['mean_fit_time', 'std_fit_time', 'mean_score_time', 'std_score_time', 'param_alpha', 'param_max_iter', 'params', 'split0_test_score', 'split1_test_score', 'split2_test_score', 'split3_test_score', 'split4_test_score', 'split5_test_score', 'split6_test_score', 'split7_test_score', 'split8_test_score', 'split9_test_score', 'mean_test_score', 'std_test_score', 'rank_test_score'])"
      ]
     },
     "execution_count": 27,
     "metadata": {},
     "output_type": "execute_result"
    }
   ],
   "source": [
    "lasso_gcv.cv_results_.keys()"
   ]
  },
  {
   "cell_type": "code",
   "execution_count": 28,
   "id": "e0c11e5f",
   "metadata": {},
   "outputs": [
    {
     "data": {
      "text/plain": [
       "-491.7989480146936"
      ]
     },
     "execution_count": 28,
     "metadata": {},
     "output_type": "execute_result"
    }
   ],
   "source": [
    "#  As the negative mean_squared_errors were reported the max is the best\n",
    "lasso_gcv.cv_results_.get('mean_test_score').max()"
   ]
  },
  {
   "cell_type": "code",
   "execution_count": 29,
   "id": "6a0fee5b",
   "metadata": {},
   "outputs": [],
   "source": [
    "df_lasso = pd.DataFrame({'alpha': lasso_gcv.cv_results_.get('param_alpha'), \n",
    "                         'Mean_Score':-lasso_gcv.cv_results_.get('mean_test_score'), \n",
    "                         'rank': lasso_gcv.cv_results_.get('rank_test_score')}, index= lasso_gcv.cv_results_.get('rank_test_score'))"
   ]
  },
  {
   "cell_type": "code",
   "execution_count": 30,
   "id": "3f4ca280",
   "metadata": {},
   "outputs": [],
   "source": [
    "df_lasso = pd.DataFrame({'alpha': lasso_gcv.cv_results_.get('param_alpha'), \n",
    "                         'Mean_Score':-lasso_gcv.cv_results_.get('mean_test_score')},\n",
    "                        index= lasso_gcv.cv_results_.get('rank_test_score'))\n",
    "df_lasso.sort_index(inplace= True)"
   ]
  },
  {
   "cell_type": "code",
   "execution_count": 31,
   "id": "3687cbb7",
   "metadata": {},
   "outputs": [
    {
     "data": {
      "text/html": [
       "<div>\n",
       "<style scoped>\n",
       "    .dataframe tbody tr th:only-of-type {\n",
       "        vertical-align: middle;\n",
       "    }\n",
       "\n",
       "    .dataframe tbody tr th {\n",
       "        vertical-align: top;\n",
       "    }\n",
       "\n",
       "    .dataframe thead th {\n",
       "        text-align: right;\n",
       "    }\n",
       "</style>\n",
       "<table border=\"1\" class=\"dataframe\">\n",
       "  <thead>\n",
       "    <tr style=\"text-align: right;\">\n",
       "      <th></th>\n",
       "      <th>alpha</th>\n",
       "      <th>Mean_Score</th>\n",
       "    </tr>\n",
       "  </thead>\n",
       "  <tbody>\n",
       "    <tr>\n",
       "      <th>1</th>\n",
       "      <td>1.101</td>\n",
       "      <td>491.798948</td>\n",
       "    </tr>\n",
       "    <tr>\n",
       "      <th>2</th>\n",
       "      <td>1.151</td>\n",
       "      <td>491.806387</td>\n",
       "    </tr>\n",
       "    <tr>\n",
       "      <th>3</th>\n",
       "      <td>1.051</td>\n",
       "      <td>491.808456</td>\n",
       "    </tr>\n",
       "    <tr>\n",
       "      <th>4</th>\n",
       "      <td>1.201</td>\n",
       "      <td>491.830773</td>\n",
       "    </tr>\n",
       "    <tr>\n",
       "      <th>5</th>\n",
       "      <td>1.001</td>\n",
       "      <td>491.834911</td>\n",
       "    </tr>\n",
       "  </tbody>\n",
       "</table>\n",
       "</div>"
      ],
      "text/plain": [
       "   alpha  Mean_Score\n",
       "1  1.101  491.798948\n",
       "2  1.151  491.806387\n",
       "3  1.051  491.808456\n",
       "4  1.201  491.830773\n",
       "5  1.001  491.834911"
      ]
     },
     "execution_count": 31,
     "metadata": {},
     "output_type": "execute_result"
    }
   ],
   "source": [
    "df_lasso.head()"
   ]
  },
  {
   "cell_type": "code",
   "execution_count": 32,
   "id": "00d8f77c",
   "metadata": {},
   "outputs": [
    {
     "data": {
      "text/plain": [
       "226.82283266522086"
      ]
     },
     "execution_count": 32,
     "metadata": {},
     "output_type": "execute_result"
    }
   ],
   "source": [
    "df_lasso.Mean_Score.std()"
   ]
  },
  {
   "cell_type": "code",
   "execution_count": 33,
   "id": "268c2f54",
   "metadata": {},
   "outputs": [
    {
     "data": {
      "text/plain": [
       "718.6217806799145"
      ]
     },
     "execution_count": 33,
     "metadata": {},
     "output_type": "execute_result"
    }
   ],
   "source": [
    "se_1 = df_lasso.iloc[0, 1] + df_lasso.Mean_Score.std()\n",
    "se_1"
   ]
  },
  {
   "cell_type": "code",
   "execution_count": 34,
   "id": "7ecc91bd",
   "metadata": {},
   "outputs": [],
   "source": [
    "# se_1_df = df_lasso[(df_lasso.Mean_Score >= se_1)]\n",
    "# se_1_df.head()"
   ]
  },
  {
   "cell_type": "code",
   "execution_count": 35,
   "id": "d005e21b",
   "metadata": {},
   "outputs": [],
   "source": [
    "# alpha_1se = se_1_df.iloc[0,0]\n",
    "# alpha_1se"
   ]
  },
  {
   "cell_type": "code",
   "execution_count": 36,
   "id": "e695c381",
   "metadata": {},
   "outputs": [
    {
     "data": {
      "text/html": [
       "<div>\n",
       "<style scoped>\n",
       "    .dataframe tbody tr th:only-of-type {\n",
       "        vertical-align: middle;\n",
       "    }\n",
       "\n",
       "    .dataframe tbody tr th {\n",
       "        vertical-align: top;\n",
       "    }\n",
       "\n",
       "    .dataframe thead th {\n",
       "        text-align: right;\n",
       "    }\n",
       "</style>\n",
       "<table border=\"1\" class=\"dataframe\">\n",
       "  <thead>\n",
       "    <tr style=\"text-align: right;\">\n",
       "      <th></th>\n",
       "      <th>alpha</th>\n",
       "      <th>Mean_Score</th>\n",
       "    </tr>\n",
       "  </thead>\n",
       "  <tbody>\n",
       "    <tr>\n",
       "      <th>233</th>\n",
       "      <td>11.601</td>\n",
       "      <td>710.681866</td>\n",
       "    </tr>\n",
       "    <tr>\n",
       "      <th>234</th>\n",
       "      <td>11.651</td>\n",
       "      <td>712.543973</td>\n",
       "    </tr>\n",
       "    <tr>\n",
       "      <th>235</th>\n",
       "      <td>11.701</td>\n",
       "      <td>714.414944</td>\n",
       "    </tr>\n",
       "    <tr>\n",
       "      <th>236</th>\n",
       "      <td>11.751</td>\n",
       "      <td>716.294775</td>\n",
       "    </tr>\n",
       "    <tr>\n",
       "      <th>237</th>\n",
       "      <td>11.801</td>\n",
       "      <td>718.183468</td>\n",
       "    </tr>\n",
       "  </tbody>\n",
       "</table>\n",
       "</div>"
      ],
      "text/plain": [
       "      alpha  Mean_Score\n",
       "233  11.601  710.681866\n",
       "234  11.651  712.543973\n",
       "235  11.701  714.414944\n",
       "236  11.751  716.294775\n",
       "237  11.801  718.183468"
      ]
     },
     "execution_count": 36,
     "metadata": {},
     "output_type": "execute_result"
    }
   ],
   "source": [
    "se_1_df = df_lasso[(df_lasso.Mean_Score <= se_1)]\n",
    "se_1_df.tail()"
   ]
  },
  {
   "cell_type": "code",
   "execution_count": 37,
   "id": "56363bf3",
   "metadata": {},
   "outputs": [
    {
     "data": {
      "text/plain": [
       "11.801"
      ]
     },
     "execution_count": 37,
     "metadata": {},
     "output_type": "execute_result"
    }
   ],
   "source": [
    "alpha_1se = se_1_df.iloc[-1,0]\n",
    "alpha_1se"
   ]
  },
  {
   "cell_type": "markdown",
   "id": "c458e362",
   "metadata": {},
   "source": [
    "# 2-a)Reportin alphas:"
   ]
  },
  {
   "cell_type": "markdown",
   "id": "c376f305",
   "metadata": {},
   "source": [
    "## According to upper caculation alpha is 1.101 and alpha_1se is 11.801"
   ]
  },
  {
   "cell_type": "markdown",
   "id": "b9fbb342",
   "metadata": {},
   "source": [
    "### Report parameters for each alphas in LASSO fit"
   ]
  },
  {
   "cell_type": "code",
   "execution_count": 38,
   "id": "c308cb52",
   "metadata": {},
   "outputs": [],
   "source": [
    "LASSO_ALPHA = Lasso(alpha=1.101)\n",
    "\n",
    "LASSO_ALPHA_1se = Lasso(alpha=11.801)"
   ]
  },
  {
   "cell_type": "code",
   "execution_count": 39,
   "id": "5fe057c5",
   "metadata": {},
   "outputs": [
    {
     "data": {
      "text/plain": [
       "Lasso(alpha=11.801)"
      ]
     },
     "execution_count": 39,
     "metadata": {},
     "output_type": "execute_result"
    }
   ],
   "source": [
    "LASSO_ALPHA.fit(X_train,y_train)\n",
    "\n",
    "LASSO_ALPHA_1se.fit(X_train,y_train)"
   ]
  },
  {
   "cell_type": "code",
   "execution_count": 40,
   "id": "8647e5a4",
   "metadata": {},
   "outputs": [
    {
     "name": "stdout",
     "output_type": "stream",
     "text": [
      "LASSO_ALPHA.coef_ is:  [ 5.73377263 -0.         13.29992048 -1.61146692 13.03165028] \n",
      "\n",
      " ---------------------------------------------------------------------------------------------------- \n",
      "\n",
      "LASSO_ALPHA_1se is :  [ 0.         -0.          8.4936764  -0.          7.30617904]\n",
      "Index(['Solar.R', 'Wind', 'Temp', 'TWcp', 'TWrat'], dtype='object')\n"
     ]
    }
   ],
   "source": [
    "print('LASSO_ALPHA.coef_ is: ' ,LASSO_ALPHA.coef_,\"\\n\\n\",100 *\"-\",\"\\n\")\n",
    "\n",
    "\n",
    "print('LASSO_ALPHA_1se is : ',LASSO_ALPHA_1se.coef_)\n",
    "print(X.columns)"
   ]
  },
  {
   "cell_type": "code",
   "execution_count": 41,
   "id": "0be70ae0",
   "metadata": {},
   "outputs": [
    {
     "name": "stdout",
     "output_type": "stream",
     "text": [
      "zip_list_ALPHA_1se: \n",
      "\n",
      " [('Solar.R', 0.0), ('Wind', -0.0), ('Temp', 8.49), ('TWcp', -0.0), ('TWrat', 7.31)]\n"
     ]
    }
   ],
   "source": [
    "# list(X.columns)\n",
    "zip_list_ALPHA_1se = zip(list(X.columns), np.round(list(LASSO_ALPHA_1se.coef_),2))\n",
    "print('zip_list_ALPHA_1se:','\\n\\n',list(zip_list_ALPHA_1se))"
   ]
  },
  {
   "cell_type": "code",
   "execution_count": 42,
   "id": "9a28de7d",
   "metadata": {},
   "outputs": [
    {
     "name": "stdout",
     "output_type": "stream",
     "text": [
      "zip_list_ALPHA: \n",
      "\n",
      " [('Solar.R', 5.73), ('Wind', -0.0), ('Temp', 13.3), ('TWcp', -1.61), ('TWrat', 13.03)]\n"
     ]
    }
   ],
   "source": [
    "zip_list_ALPHA = zip(list(X.columns), np.round(list(LASSO_ALPHA.coef_),2))\n",
    "print('zip_list_ALPHA:','\\n\\n',list(zip_list_ALPHA))"
   ]
  },
  {
   "cell_type": "markdown",
   "id": "a7d76289",
   "metadata": {},
   "source": [
    "### 2-b Answer: Based on the result of LASSO for alpha and alpha1_se, two features heve been selected in \n",
    "\n",
    "### alpha1_se('Temp' , 'TWrat') but for alpha 4 features have been selected('Solar.R', 'Temp' , 'TWcp' ,'TWrat').It \n",
    "\n",
    "### seems the alpha_1SE LASSO Model is more flexible than alpha LASSO Model\n",
    "\n",
    "\n"
   ]
  },
  {
   "cell_type": "markdown",
   "id": "cf812e14",
   "metadata": {},
   "source": [
    "# c)compare variables ????"
   ]
  },
  {
   "cell_type": "markdown",
   "id": "4edcecef",
   "metadata": {},
   "source": [
    "# 3)Answaring:"
   ]
  },
  {
   "cell_type": "markdown",
   "id": "fe5895f0",
   "metadata": {},
   "source": [
    "## Train | Test Split"
   ]
  },
  {
   "cell_type": "code",
   "execution_count": 43,
   "id": "43a02ef1",
   "metadata": {},
   "outputs": [],
   "source": [
    "X_train, X_test , y_train, y_test = train_test_split(X, y, test_size=0.3, random_state=2928893)\n"
   ]
  },
  {
   "cell_type": "markdown",
   "id": "9e13fa1d",
   "metadata": {},
   "source": [
    "## Scaling the Data"
   ]
  },
  {
   "cell_type": "code",
   "execution_count": 44,
   "id": "81d9c33b",
   "metadata": {},
   "outputs": [],
   "source": [
    "scaler = StandardScaler().fit(X_train)"
   ]
  },
  {
   "cell_type": "markdown",
   "id": "3f0ca4c2",
   "metadata": {},
   "source": [
    "## Scaling X_tran and X_test"
   ]
  },
  {
   "cell_type": "code",
   "execution_count": 45,
   "id": "407fd92a",
   "metadata": {},
   "outputs": [],
   "source": [
    "X_train = scaler.transform(X_train)\n",
    "X_test = scaler.transform(X_test)\n"
   ]
  },
  {
   "cell_type": "code",
   "execution_count": 46,
   "id": "04f5869d",
   "metadata": {},
   "outputs": [],
   "source": [
    "#Dictionary of alphas will be made according to a previouse reporets \n",
    "alphas_dict = {'LASSO_min':1.101 ,'LASSO_1SE':11.801 ,'Ridge_alpha':9.85}\n",
    "\n",
    "\n"
   ]
  },
  {
   "cell_type": "markdown",
   "id": "3f3d2bf9",
   "metadata": {},
   "source": [
    "### Fit ridge model"
   ]
  },
  {
   "cell_type": "code",
   "execution_count": 47,
   "id": "80f12b76",
   "metadata": {},
   "outputs": [],
   "source": [
    "# CV10 = RepeatedKFold(n_splits=10, n_repeats=1, random_state=123)\n",
    "# ridge_cv_model_2 = Ridge(alpha=9.85,cv=CV10, scoring='neg_mean_squared_error').fit(X_train,y_train)\n",
    "# #ridge_cv_model_2.fit(X_train,y_train)"
   ]
  },
  {
   "cell_type": "code",
   "execution_count": 48,
   "id": "a6e8022c",
   "metadata": {},
   "outputs": [],
   "source": [
    "CV10 = RepeatedKFold(n_splits=10, n_repeats=1, random_state=2928893)\n",
    "\n"
   ]
  },
  {
   "cell_type": "code",
   "execution_count": 49,
   "id": "cec09c20",
   "metadata": {},
   "outputs": [
    {
     "data": {
      "text/plain": [
       "GridSearchCV(cv=RepeatedKFold(n_repeats=1, n_splits=10, random_state=2928893),\n",
       "             estimator=Ridge(), n_jobs=-1,\n",
       "             param_grid={'alpha': [9.85], 'max_iter': [100000]},\n",
       "             scoring='neg_mean_squared_error')"
      ]
     },
     "execution_count": 49,
     "metadata": {},
     "output_type": "execute_result"
    }
   ],
   "source": [
    "param_grid_ridge = {'alpha':[9.85] , 'max_iter': [100000]}\n",
    "Ridge_gcv = GridSearchCV(Ridge(), param_grid= param_grid_ridge,\n",
    "                         cv= CV10, scoring= 'neg_mean_squared_error', n_jobs= -1)\n",
    "Ridge_gcv.fit(X_train,y_train)"
   ]
  },
  {
   "cell_type": "code",
   "execution_count": 50,
   "id": "25fcde98",
   "metadata": {},
   "outputs": [
    {
     "data": {
      "text/plain": [
       "(408.2478607075801, 352.3661660745341)"
      ]
     },
     "execution_count": 50,
     "metadata": {},
     "output_type": "execute_result"
    }
   ],
   "source": [
    "-Ridge_gcv.best_score_ , -Ridge_gcv.score(X_train, y_train)"
   ]
  },
  {
   "cell_type": "code",
   "execution_count": null,
   "id": "260a2a76",
   "metadata": {},
   "outputs": [],
   "source": []
  },
  {
   "cell_type": "markdown",
   "id": "093ca7fb",
   "metadata": {},
   "source": [
    "### Fit LASSO_min"
   ]
  },
  {
   "cell_type": "code",
   "execution_count": 51,
   "id": "98941b30",
   "metadata": {},
   "outputs": [
    {
     "data": {
      "text/plain": [
       "GridSearchCV(cv=RepeatedKFold(n_repeats=1, n_splits=10, random_state=2928893),\n",
       "             estimator=Lasso(), n_jobs=-1,\n",
       "             param_grid={'alpha': [1.101], 'max_iter': [100000]},\n",
       "             scoring='neg_mean_squared_error')"
      ]
     },
     "execution_count": 51,
     "metadata": {},
     "output_type": "execute_result"
    }
   ],
   "source": [
    "param_grid_lasso_min = {'alpha':[1.101], 'max_iter': [100000]}\n",
    "lasso_gcv_min = GridSearchCV(Lasso(), param_grid= param_grid_lasso_min, \n",
    "                         cv= CV10, scoring= 'neg_mean_squared_error', n_jobs= -1)\n",
    "\n",
    "lasso_gcv_min.fit(X_train,y_train)"
   ]
  },
  {
   "cell_type": "code",
   "execution_count": 52,
   "id": "96ee4751",
   "metadata": {},
   "outputs": [
    {
     "data": {
      "text/plain": [
       "(435.7694600116491, 349.9444734126274)"
      ]
     },
     "execution_count": 52,
     "metadata": {},
     "output_type": "execute_result"
    }
   ],
   "source": [
    "-lasso_gcv_min.best_score_ , -lasso_gcv_min.score(X_train, y_train)"
   ]
  },
  {
   "cell_type": "markdown",
   "id": "1df94716",
   "metadata": {},
   "source": [
    "### Fit LASSO_1SE"
   ]
  },
  {
   "cell_type": "code",
   "execution_count": 53,
   "id": "b86879cc",
   "metadata": {},
   "outputs": [
    {
     "data": {
      "text/plain": [
       "GridSearchCV(cv=RepeatedKFold(n_repeats=1, n_splits=10, random_state=2928893),\n",
       "             estimator=Lasso(), n_jobs=-1,\n",
       "             param_grid={'alpha': [11.801], 'max_iter': [100000]},\n",
       "             scoring='neg_mean_squared_error')"
      ]
     },
     "execution_count": 53,
     "metadata": {},
     "output_type": "execute_result"
    }
   ],
   "source": [
    "param_grid_lasso_1SE = {'alpha':[11.801], 'max_iter': [100000]}\n",
    "lasso_gcv_1SE = GridSearchCV(Lasso(), param_grid= param_grid_lasso_1SE, \n",
    "                         cv= CV10, scoring= 'neg_mean_squared_error', n_jobs= -1)\n",
    "\n",
    "lasso_gcv_1SE.fit(X_train,y_train)"
   ]
  },
  {
   "cell_type": "code",
   "execution_count": 54,
   "id": "e52aaee1",
   "metadata": {},
   "outputs": [
    {
     "data": {
      "text/plain": [
       "(576.204661980573, 534.9599053044672)"
      ]
     },
     "execution_count": 54,
     "metadata": {},
     "output_type": "execute_result"
    }
   ],
   "source": [
    "-lasso_gcv_1SE.best_score_ , -lasso_gcv_1SE.score(X_train, y_train)"
   ]
  },
  {
   "cell_type": "markdown",
   "id": "5623ac75",
   "metadata": {},
   "source": [
    "## 3ii)Reporting MSPE based in best model has been selected\n",
    "\n",
    "## (using test part of dataset)"
   ]
  },
  {
   "cell_type": "code",
   "execution_count": 55,
   "id": "cebec7fb",
   "metadata": {},
   "outputs": [
    {
     "name": "stdout",
     "output_type": "stream",
     "text": [
      "454.1001133988304\n"
     ]
    }
   ],
   "source": [
    "test_predictions = lasso_gcv_min.predict(X_test)\n",
    "\n",
    "MSE = mean_squared_error(y_test,test_predictions)\n",
    "\n",
    "print(MSE)\n"
   ]
  },
  {
   "cell_type": "markdown",
   "id": "c58481c7",
   "metadata": {},
   "source": [
    "## 3d)Report MSPE for each fold"
   ]
  },
  {
   "cell_type": "code",
   "execution_count": 59,
   "id": "3959d3c5",
   "metadata": {},
   "outputs": [],
   "source": [
    "df_result = pd.DataFrame( lasso_gcv_min.cv_results_)\n",
    "\n"
   ]
  },
  {
   "cell_type": "code",
   "execution_count": 57,
   "id": "0f80e49d",
   "metadata": {},
   "outputs": [
    {
     "data": {
      "text/html": [
       "<div>\n",
       "<style scoped>\n",
       "    .dataframe tbody tr th:only-of-type {\n",
       "        vertical-align: middle;\n",
       "    }\n",
       "\n",
       "    .dataframe tbody tr th {\n",
       "        vertical-align: top;\n",
       "    }\n",
       "\n",
       "    .dataframe thead th {\n",
       "        text-align: right;\n",
       "    }\n",
       "</style>\n",
       "<table border=\"1\" class=\"dataframe\">\n",
       "  <thead>\n",
       "    <tr style=\"text-align: right;\">\n",
       "      <th></th>\n",
       "      <th>mean_fit_time</th>\n",
       "      <th>std_fit_time</th>\n",
       "      <th>mean_score_time</th>\n",
       "      <th>std_score_time</th>\n",
       "      <th>param_alpha</th>\n",
       "      <th>param_max_iter</th>\n",
       "      <th>params</th>\n",
       "      <th>split0_test_score</th>\n",
       "      <th>split1_test_score</th>\n",
       "      <th>split2_test_score</th>\n",
       "      <th>split3_test_score</th>\n",
       "      <th>split4_test_score</th>\n",
       "      <th>split5_test_score</th>\n",
       "      <th>split6_test_score</th>\n",
       "      <th>split7_test_score</th>\n",
       "      <th>split8_test_score</th>\n",
       "      <th>split9_test_score</th>\n",
       "      <th>mean_test_score</th>\n",
       "      <th>std_test_score</th>\n",
       "      <th>rank_test_score</th>\n",
       "    </tr>\n",
       "  </thead>\n",
       "  <tbody>\n",
       "    <tr>\n",
       "      <th>0</th>\n",
       "      <td>0.002266</td>\n",
       "      <td>0.002599</td>\n",
       "      <td>0.001344</td>\n",
       "      <td>0.002409</td>\n",
       "      <td>1.101</td>\n",
       "      <td>100000</td>\n",
       "      <td>{'alpha': 1.101, 'max_iter': 100000}</td>\n",
       "      <td>-174.624645</td>\n",
       "      <td>-492.149188</td>\n",
       "      <td>-611.015584</td>\n",
       "      <td>-245.204244</td>\n",
       "      <td>-181.054778</td>\n",
       "      <td>-625.917213</td>\n",
       "      <td>-286.406773</td>\n",
       "      <td>-671.020599</td>\n",
       "      <td>-660.394624</td>\n",
       "      <td>-409.906952</td>\n",
       "      <td>-435.76946</td>\n",
       "      <td>191.889284</td>\n",
       "      <td>1</td>\n",
       "    </tr>\n",
       "  </tbody>\n",
       "</table>\n",
       "</div>"
      ],
      "text/plain": [
       "   mean_fit_time  std_fit_time  mean_score_time  std_score_time param_alpha  \\\n",
       "0       0.002266      0.002599         0.001344        0.002409       1.101   \n",
       "\n",
       "  param_max_iter                                params  split0_test_score  \\\n",
       "0         100000  {'alpha': 1.101, 'max_iter': 100000}        -174.624645   \n",
       "\n",
       "   split1_test_score  split2_test_score  split3_test_score  split4_test_score  \\\n",
       "0        -492.149188        -611.015584        -245.204244        -181.054778   \n",
       "\n",
       "   split5_test_score  split6_test_score  split7_test_score  split8_test_score  \\\n",
       "0        -625.917213        -286.406773        -671.020599        -660.394624   \n",
       "\n",
       "   split9_test_score  mean_test_score  std_test_score  rank_test_score  \n",
       "0        -409.906952       -435.76946      191.889284                1  "
      ]
     },
     "execution_count": 57,
     "metadata": {},
     "output_type": "execute_result"
    }
   ],
   "source": [
    "df_result = pd.DataFrame( lasso_gcv_min.cv_results_)\n",
    "df_result.head(5)"
   ]
  },
  {
   "cell_type": "code",
   "execution_count": 58,
   "id": "f39729d2",
   "metadata": {},
   "outputs": [],
   "source": [
    "#df_result.columns.get_indexer(['split0_test_score', 'split9_test_score'])\n",
    "# df_result.iloc[7:17,:].head()"
   ]
  },
  {
   "cell_type": "code",
   "execution_count": null,
   "id": "ae895167",
   "metadata": {},
   "outputs": [],
   "source": []
  },
  {
   "cell_type": "code",
   "execution_count": null,
   "id": "2bc96a0b",
   "metadata": {},
   "outputs": [],
   "source": []
  },
  {
   "cell_type": "code",
   "execution_count": null,
   "id": "c2db7833",
   "metadata": {},
   "outputs": [],
   "source": []
  },
  {
   "cell_type": "code",
   "execution_count": null,
   "id": "51451b41",
   "metadata": {},
   "outputs": [],
   "source": []
  },
  {
   "cell_type": "code",
   "execution_count": null,
   "id": "73843bba",
   "metadata": {},
   "outputs": [],
   "source": []
  },
  {
   "cell_type": "code",
   "execution_count": null,
   "id": "9b75877e",
   "metadata": {},
   "outputs": [],
   "source": []
  },
  {
   "cell_type": "code",
   "execution_count": null,
   "id": "989f361f",
   "metadata": {},
   "outputs": [],
   "source": []
  }
 ],
 "metadata": {
  "kernelspec": {
   "display_name": "Python 3",
   "language": "python",
   "name": "python3"
  },
  "language_info": {
   "codemirror_mode": {
    "name": "ipython",
    "version": 3
   },
   "file_extension": ".py",
   "mimetype": "text/x-python",
   "name": "python",
   "nbconvert_exporter": "python",
   "pygments_lexer": "ipython3",
   "version": "3.9.6"
  }
 },
 "nbformat": 4,
 "nbformat_minor": 5
}
