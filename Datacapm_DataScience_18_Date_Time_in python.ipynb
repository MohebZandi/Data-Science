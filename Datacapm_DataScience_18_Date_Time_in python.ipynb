{
 "cells": [
  {
   "cell_type": "markdown",
   "id": "d3b780bb",
   "metadata": {},
   "source": [
    "## Which day of the week?"
   ]
  },
  {
   "cell_type": "code",
   "execution_count": null,
   "id": "db9a2c91",
   "metadata": {},
   "outputs": [],
   "source": [
    "# Import date from datetime\n",
    "from datetime import date\n",
    "\n",
    "# Create a date object\n",
    "hurricane_andrew = date(1992, 8, 24)\n",
    "\n",
    "# Which day of the week is the date?\n",
    "print(hurricane_andrew.weekday())"
   ]
  },
  {
   "cell_type": "code",
   "execution_count": null,
   "id": "8c529dac",
   "metadata": {},
   "outputs": [],
   "source": [
    "# Counter for how many before June 1\n",
    "early_hurricanes = 0\n",
    "\n",
    "# We loop over the dates\n",
    "for hurricane in florida_hurricane_dates:\n",
    "  # Check if the month is before June (month number 6)\n",
    "  if hurricane.month < 6:\n",
    "    early_hurricanes = early_hurricanes + 1\n",
    "    \n",
    "print(early_hurricanes)"
   ]
  },
  {
   "cell_type": "markdown",
   "id": "b7b8b72c",
   "metadata": {},
   "source": [
    "### Subtract dates"
   ]
  },
  {
   "cell_type": "code",
   "execution_count": null,
   "id": "069f5996",
   "metadata": {},
   "outputs": [],
   "source": [
    "# Import date\n",
    "from datetime import date\n",
    "\n",
    "# Create a date object for May 9th, 2007\n",
    "start = date(2007, 5, 9)\n",
    "\n",
    "# Create a date object for December 13th, 2007\n",
    "end = date(2007, 12, 13)\n",
    "\n",
    "# Subtract the two dates and print the number of days\n",
    "print((end - start).days)"
   ]
  },
  {
   "cell_type": "markdown",
   "id": "42b1812b",
   "metadata": {},
   "source": [
    "### Counting events per calendar month\n"
   ]
  },
  {
   "cell_type": "code",
   "execution_count": null,
   "id": "c4068d1e",
   "metadata": {},
   "outputs": [],
   "source": [
    "# A dictionary to count hurricanes per calendar month\n",
    "hurricanes_each_month = {1: 0, 2: 0, 3: 0, 4: 0, 5: 0, 6:0,\n",
    "\t\t  \t\t\t\t 7: 0, 8:0, 9:0, 10:0, 11:0, 12:0}\n",
    "\n",
    "# Loop over all hurricanes\n",
    "for hurricane in florida_hurricane_dates:\n",
    "  # Pull out the month\n",
    "  month = hurricane.month\n",
    "  # Increment the count in your dictionary by one\n",
    "  hurricanes_each_month[month] += 1\n",
    "  \n",
    "print(hurricanes_each_month)"
   ]
  },
  {
   "cell_type": "markdown",
   "id": "6db398d5",
   "metadata": {},
   "source": [
    "### Putting a list of dates in order\n"
   ]
  },
  {
   "cell_type": "code",
   "execution_count": null,
   "id": "d65ccb97",
   "metadata": {},
   "outputs": [],
   "source": [
    "# Print the first and last scrambled dates\n",
    "print(dates_scrambled[0])\n",
    "print(dates_scrambled[-1])\n",
    "\n",
    "# Put the dates in order\n",
    "dates_ordered = sorted(dates_scrambled)\n",
    "\n",
    "# Print the first and last ordered dates\n",
    "print(dates_ordered[0])\n",
    "print(dates_ordered[-1])"
   ]
  },
  {
   "cell_type": "markdown",
   "id": "4e7c4c02",
   "metadata": {},
   "source": [
    "#### Assign the earliest date in florida_hurricane_dates to first_date.\n",
    "\n",
    "Print first_date in the ISO standard. For example, December 1st, 2000 would be \"2000-12-01\".\n",
    "\n",
    "Print first_date in the US style, using .strftime(). For example, December 1st, 2000 would be \"12/1/2000\" ."
   ]
  },
  {
   "cell_type": "code",
   "execution_count": null,
   "id": "562073d5",
   "metadata": {},
   "outputs": [],
   "source": [
    "# Assign the earliest date to first_date\n",
    "first_date = min(florida_hurricane_dates)\n",
    "\n",
    "# Convert to ISO and US formats\n",
    "iso = \"Our earliest hurricane date: \" + first_date.isoformat()\n",
    "us = \"Our earliest hurricane date: \" + first_date.strftime(\"%m/%d/%Y\")\n",
    "\n",
    "print(\"ISO: \" + iso)\n",
    "print(\"US: \" + us)"
   ]
  },
  {
   "cell_type": "markdown",
   "id": "5fe7166c",
   "metadata": {},
   "source": [
    "Print andrew in the format 'YYYY-MM'.\n",
    "\n",
    "Print andrew in the format 'MONTH (YYYY)', using %B for the month's full name, which in this case will be August.\n",
    "\n",
    "3\n",
    "Print andrew in the format 'YYYY-DDD' (where DDD is the day of the year) using %j."
   ]
  },
  {
   "cell_type": "code",
   "execution_count": null,
   "id": "74da3cca",
   "metadata": {},
   "outputs": [],
   "source": [
    "# Import date\n",
    "from datetime import date\n",
    "\n",
    "# Create a date object\n",
    "andrew = date(1992, 8, 26)\n",
    "\n",
    "# Print the date in the format 'YYYY-MM'\n",
    "print(andrew.strftime('%Y-%m'))\n",
    "\n",
    "# Print the date in the format 'MONTH (YYYY)'\n",
    "print(andrew.strftime('%B (%Y)'))\n",
    "\n",
    "# Print the date in the format 'YYYY-DDD'\n",
    "print(andrew.strftime('%Y-%j'))"
   ]
  },
  {
   "cell_type": "markdown",
   "id": "c83fec1c",
   "metadata": {},
   "source": [
    "### Creating datetimes by hand\n"
   ]
  },
  {
   "cell_type": "code",
   "execution_count": null,
   "id": "020bdaf4",
   "metadata": {},
   "outputs": [],
   "source": [
    "# Import datetime\n",
    "from datetime import datetime\n",
    "\n",
    "# Create a datetime object\n",
    "dt = datetime(2017, 12, 31, 15, 19, 13)\n",
    "\n",
    "# Print the results in ISO 8601 format\n",
    "print(dt.isoformat())"
   ]
  },
  {
   "cell_type": "markdown",
   "id": "bdfd587a",
   "metadata": {},
   "source": [
    "### Counting events before and after noon"
   ]
  },
  {
   "cell_type": "code",
   "execution_count": null,
   "id": "7d2115d5",
   "metadata": {},
   "outputs": [],
   "source": [
    "# Create dictionary to hold results\n",
    "trip_counts = {'AM': 0, 'PM': 0}\n",
    "  \n",
    "# Loop over all trips\n",
    "for trip in onebike_datetimes:\n",
    "  # Check to see if the trip starts before noon\n",
    "  if trip['start'].hour < 12:\n",
    "    # Increment the counter for before noon\n",
    "    trip_counts['AM'] += 1\n",
    "  else:\n",
    "    # Increment the counter for after noon\n",
    "    trip_counts['PM'] += 1\n",
    "  \n",
    "print(trip_counts)"
   ]
  },
  {
   "cell_type": "markdown",
   "id": "49ddc8bc",
   "metadata": {},
   "source": [
    "### Turning strings into datetimes\n",
    "\n",
    "When you download data from the Internet, dates and times usually come to you as strings. Often the first step is to turn those strings into datetime objects.\n",
    "\n",
    "In this exercise, you will practice this transformation.\n",
    "\n",
    "Reference\t\n",
    "%Y\t4 digit year (0000-9999)\n",
    "\n",
    "%m\t2 digit month (1-12)\n",
    "\n",
    "%d\t2 digit day (1-31)\n",
    "\n",
    "%H\t2 digit hour (0-23)\n",
    "\n",
    "%M\t2 digit minute (0-59)\n",
    "\n",
    "%S\t2 digit second (0-59)"
   ]
  },
  {
   "cell_type": "code",
   "execution_count": null,
   "id": "c032d432",
   "metadata": {},
   "outputs": [],
   "source": [
    "# Import the datetime class\n",
    "from datetime import datetime\n",
    "\n",
    "# Starting string, in YYYY-MM-DD HH:MM:SS format\n",
    "s = '2017-02-03 00:00:01'\n",
    "\n",
    "# Write a format string to parse s\n",
    "fmt = '%Y-%m-%d %H:%M:%S'\n",
    "\n",
    "# Create a datetime object d\n",
    "d = datetime.strptime(s, fmt)\n",
    "\n",
    "# Print d\n",
    "print(d)"
   ]
  },
  {
   "cell_type": "code",
   "execution_count": null,
   "id": "5492a714",
   "metadata": {},
   "outputs": [],
   "source": [
    "# Import the datetime class\n",
    "from datetime import datetime\n",
    "\n",
    "# Starting string, in MM/DD/YYYY HH:MM:SS format\n",
    "s = '12/15/1986 08:00:00'\n",
    "\n",
    "# Write a format string to parse s\n",
    "fmt = '%m/%d/%Y %H:%M:%S'\n",
    "\n",
    "# Create a datetime object d\n",
    "d = datetime.strptime(s, fmt)\n",
    "\n",
    "# Print d\n",
    "print(d)"
   ]
  },
  {
   "cell_type": "markdown",
   "id": "64c57f81",
   "metadata": {},
   "source": [
    "### Parsing pairs of strings as datetimes\n",
    "\n",
    "Up until now, you've been working with a pre-processed list of datetimes for W20529's trips. For this exercise, you're going to go one step back in the data cleaning pipeline and work with the strings that the data started as.\n",
    "\n",
    "Explore onebike_datetime_strings in the IPython shell to determine the correct format. datetime has already been loaded for you.\n",
    "\n",
    "Reference\t\n",
    "%Y\t4 digit year (0000-9999)\n",
    "\n",
    "%m\t2 digit month (1-12)\n",
    "\n",
    "%d\t2 digit day (1-31)\n",
    "\n",
    "%H\t2 digit hour (0-23)\n",
    "\n",
    "%M\t2 digit minute (0-59)\n",
    "\n",
    "%S\t2 digit second (0-59)"
   ]
  },
  {
   "cell_type": "code",
   "execution_count": null,
   "id": "b94382fc",
   "metadata": {},
   "outputs": [],
   "source": [
    "# Write down the format string\n",
    "fmt = \"%Y-%m-%d %H:%M:%S\"\n",
    "\n",
    "# Initialize a list for holding the pairs of datetime objects\n",
    "onebike_datetimes = []\n",
    "\n",
    "# Loop over all trips\n",
    "for (start, end) in onebike_datetime_strings:\n",
    "  trip = {'start': datetime.strptime(start, fmt),\n",
    "          'end': datetime.strptime(end, fmt)}\n",
    "  \n",
    "  # Append the trip\n",
    "  onebike_datetimes.append(trip)"
   ]
  },
  {
   "cell_type": "markdown",
   "id": "da2fddc6",
   "metadata": {},
   "source": [
    "### Recreating ISO format with strftime()\n",
    "\n",
    "In the last chapter, you used strftime() to create strings from date objects. Now that you know about datetime objects, let's practice doing something similar."
   ]
  },
  {
   "cell_type": "code",
   "execution_count": null,
   "id": "e76b58bd",
   "metadata": {},
   "outputs": [],
   "source": [
    "# Import datetime\n",
    "from datetime import datetime\n",
    "\n",
    "# Pull out the start of the first trip\n",
    "first_start = onebike_datetimes[0]['start']\n",
    "\n",
    "# Format to feed to strftime()\n",
    "fmt = \"%Y-%m-%dT%H:%M:%S\"\n",
    "\n",
    "# Print out date with .isoformat(), then with .strftime() to compare\n",
    "print(first_start.isoformat())\n",
    "print(first_start.strftime(fmt))"
   ]
  },
  {
   "cell_type": "markdown",
   "id": "fe0edfae",
   "metadata": {},
   "source": [
    "### Unix timestamps\n",
    "Datetimes are sometimes stored as Unix timestamps: the number of seconds since January 1, 1970. This is especially common with computer infrastructure, like the log files that websites keep when they get visitors."
   ]
  },
  {
   "cell_type": "code",
   "execution_count": null,
   "id": "1439d740",
   "metadata": {},
   "outputs": [],
   "source": [
    "# Import datetime\n",
    "from datetime import datetime\n",
    "\n",
    "# Starting timestamps\n",
    "timestamps = [1514665153, 1514664543]\n",
    "\n",
    "# Datetime objects\n",
    "dts = []\n",
    "\n",
    "# Loop\n",
    "for ts in timestamps:\n",
    "  dts.append(datetime.fromtimestamp(ts))\n",
    "  \n",
    "# Print results\n",
    "print(dts)"
   ]
  },
  {
   "cell_type": "markdown",
   "id": "658a86c2",
   "metadata": {},
   "source": [
    "### Turning pairs of datetimes into durations"
   ]
  },
  {
   "cell_type": "code",
   "execution_count": null,
   "id": "cbac6278",
   "metadata": {},
   "outputs": [],
   "source": [
    "# Initialize a list for all the trip durations\n",
    "onebike_durations = []\n",
    "\n",
    "for trip in onebike_datetimes:\n",
    "  # Create a timedelta object corresponding to the length of the trip\n",
    "  trip_duration = trip['end'] - trip['start']\n",
    "  \n",
    "  # Get the total elapsed seconds in trip_duration\n",
    "  trip_length_seconds = trip_duration.total_seconds()\n",
    "  \n",
    "  # Append the results to our list\n",
    "  onebike_durations.append(trip_length_seconds)"
   ]
  },
  {
   "cell_type": "markdown",
   "id": "bb37ead4",
   "metadata": {},
   "source": [
    "### Average trip time"
   ]
  },
  {
   "cell_type": "code",
   "execution_count": null,
   "id": "afac11e6",
   "metadata": {},
   "outputs": [],
   "source": [
    "# What was the total duration of all trips?\n",
    "total_elapsed_time = sum(onebike_durations)\n",
    "\n",
    "# What was the total number of trips?\n",
    "number_of_trips = len(onebike_durations)\n",
    "  \n",
    "# Divide the total duration by the number of trips\n",
    "print(total_elapsed_time / number_of_trips)"
   ]
  },
  {
   "cell_type": "markdown",
   "id": "f5efa9b2",
   "metadata": {},
   "source": [
    "### The long and the short of why time is hard\n"
   ]
  },
  {
   "cell_type": "code",
   "execution_count": null,
   "id": "f2b8539d",
   "metadata": {},
   "outputs": [],
   "source": [
    "# Calculate shortest and longest trips\n",
    "shortest_trip = min(onebike_durations)\n",
    "longest_trip = max(onebike_durations)\n",
    "\n",
    "# Print out the results\n",
    "print(\"The shortest trip was \" + str(shortest_trip) + \" seconds\")\n",
    "print(\"The longest trip was \" + str(longest_trip) + \" seconds\")"
   ]
  },
  {
   "cell_type": "markdown",
   "id": "b1d14fa2",
   "metadata": {},
   "source": [
    "### Creating timezone aware datetimes\n",
    "\n",
    "Import timezone.\n",
    "\n",
    "Set the tzinfo to UTC, without using timedelta.\n",
    "\n",
    "Set pst to be a timezone set for UTC-8.\n",
    "\n",
    "Set dt's timezone to be pst.\n",
    "\n",
    "Set tz to be a timezone set for UTC+11.\n",
    "\n",
    "Set dt's timezone to be tz.\n"
   ]
  },
  {
   "cell_type": "code",
   "execution_count": null,
   "id": "1be14f5f",
   "metadata": {},
   "outputs": [],
   "source": [
    "# Import datetime, timezone\n",
    "from datetime import datetime, timezone\n",
    "\n",
    "# October 1, 2017 at 15:26:26, UTC\n",
    "dt = datetime(2017, 10, 1, 15, 26, 26, tzinfo=timezone.utc)\n",
    "\n",
    "# Print results\n",
    "print(dt.isoformat())\n",
    "\n"
   ]
  },
  {
   "cell_type": "code",
   "execution_count": null,
   "id": "322dab97",
   "metadata": {},
   "outputs": [],
   "source": [
    "# Import datetime, timedelta, timezone\n",
    "from datetime import datetime, timedelta, timezone\n",
    "\n",
    "# Create a timezone for Pacific Standard Time, or UTC-8\n",
    "pst = timezone(timedelta(hours= -8))\n",
    "\n",
    "# October 1, 2017 at 15:26:26, UTC-8\n",
    "dt = datetime(2017, 10, 1, 15, 26, 26, tzinfo= pst)\n",
    "\n",
    "# Print results\n",
    "print(dt.isoformat())"
   ]
  },
  {
   "cell_type": "code",
   "execution_count": null,
   "id": "c2120db6",
   "metadata": {},
   "outputs": [],
   "source": [
    "# Import datetime, timedelta, timezone\n",
    "from datetime import datetime, timedelta, timezone\n",
    "\n",
    "# Create a timezone for Australian Eastern Daylight Time, or UTC+11\n",
    "aedt = timezone(timedelta(hours = 11))\n",
    "\n",
    "# October 1, 2017 at 15:26:26, UTC+11\n",
    "dt = datetime(2017, 10, 1, 15, 26, 26, tzinfo= aedt)\n",
    "\n",
    "# Print results\n",
    "print(dt.isoformat())"
   ]
  },
  {
   "cell_type": "markdown",
   "id": "11cdacee",
   "metadata": {},
   "source": [
    "### What time did the bike leave in UTC?\n",
    "\n",
    "Having set the timezone for the first ten rides that W20529 took, let's see what time the bike left in UTC. We've already loaded the results of the previous exercise into memory.\n",
    "\n",
    "Within the for loop, move dt to be in UTC. Use timezone.utc as a convenient shortcut for UTC."
   ]
  },
  {
   "cell_type": "code",
   "execution_count": null,
   "id": "32a2fe26",
   "metadata": {},
   "outputs": [],
   "source": [
    "# Loop over the trips\n",
    "for trip in onebike_datetimes[:10]:\n",
    "  # Pull out the start\n",
    "  dt = trip['start']\n",
    "  # Move dt to be in UTC\n",
    "  dt = dt.astimezone(timezone.utc)\n",
    "  \n",
    "  # Print the start time in UTC\n",
    "  print('Original:', trip['start'], '| UTC:', dt.isoformat())"
   ]
  },
  {
   "cell_type": "markdown",
   "id": "388fe52e",
   "metadata": {},
   "source": [
    "### Putting the bike trips into the right time zone\n"
   ]
  },
  {
   "cell_type": "code",
   "execution_count": null,
   "id": "32f46dfa",
   "metadata": {},
   "outputs": [],
   "source": [
    "# Import tz\n",
    "from dateutil import tz\n",
    "\n",
    "# Create a timezone object for Eastern Time\n",
    "et = tz.gettz('America/New_York')\n",
    "\n",
    "# Loop over trips, updating the datetimes to be in Eastern Time\n",
    "for trip in onebike_datetimes[:10]:\n",
    "  # Update trip['start'] and trip['end']\n",
    "  trip['start'] = trip['start'].replace(tzinfo = et)\n",
    "  trip['end'] = trip['end'].replace(tzinfo = et)"
   ]
  },
  {
   "cell_type": "markdown",
   "id": "869c3d53",
   "metadata": {},
   "source": [
    "### What time did the bike leave? (Global edition)\n"
   ]
  },
  {
   "cell_type": "code",
   "execution_count": null,
   "id": "3f86c252",
   "metadata": {},
   "outputs": [],
   "source": [
    "# Create the timezone object\n",
    "sm = tz.gettz('Pacific/Apia')\n",
    "\n",
    "# Pull out the start of the first trip\n",
    "local = onebike_datetimes[0]['start']\n",
    "\n",
    "# What time was it in Samoa?\n",
    "notlocal = local.astimezone(sm)\n",
    "\n",
    "# Print them out and see the difference\n",
    "print(local.isoformat())\n",
    "print(notlocal.isoformat())"
   ]
  },
  {
   "cell_type": "markdown",
   "id": "e8da58d6",
   "metadata": {},
   "source": [
    "### Hint\n",
    "\n",
    "Use the .astimezone() to change the timezone for a datetime.\n",
    "\n",
    "timezone.utc gives you the UTC timezone.\n",
    "\n",
    "tz.gettz('UTC') will also give you the UTC timezone."
   ]
  },
  {
   "cell_type": "code",
   "execution_count": null,
   "id": "f9073e7f",
   "metadata": {},
   "outputs": [],
   "source": [
    "# Import datetime, timedelta, tz, timezone\n",
    "from datetime import datetime, timedelta, timezone\n",
    "from dateutil import tz\n",
    "\n",
    "# Start on March 12, 2017, midnight, then add 6 hours\n",
    "start = datetime(2017, 3, 12, tzinfo = tz.gettz('America/New_York'))\n",
    "end = start + timedelta(hours=6)\n",
    "print(start.isoformat() + \" to \" + end.isoformat())\n",
    "\n",
    "# How many hours have elapsed?\n",
    "print((end - start).total_seconds()/(60*60))\n",
    "\n",
    "# What if we move to UTC?\n",
    "print((end.astimezone(timezone.utc) - start.astimezone(timezone.utc))\\\n",
    "      .total_seconds()/(60*60))"
   ]
  },
  {
   "cell_type": "markdown",
   "id": "fe9a1f62",
   "metadata": {},
   "source": [
    "### March 29, throughout a decade\n",
    "\n",
    "Daylight Saving rules are complicated: they're different in different places, they change over time, and they usually start on a Sunday (and so they move around the calendar).\n",
    "\n",
    "For example, in the United Kingdom, as of the time this lesson was written, Daylight Saving begins on the last Sunday in March. Let's look at the UTC offset for March 29, at midnight, for the years 2000 to 2010."
   ]
  },
  {
   "cell_type": "code",
   "execution_count": null,
   "id": "c46b4469",
   "metadata": {},
   "outputs": [],
   "source": [
    "# Import datetime and tz\n",
    "from datetime import datetime\n",
    "from dateutil import tz\n",
    "\n",
    "# Create starting date\n",
    "dt = datetime(2000, 3, 29, tzinfo = tz.gettz('Europe/London'))\n",
    "\n",
    "# Loop over the dates, replacing the year, and print the ISO timestamp\n",
    "for y in range(2000, 2011):\n",
    "  print(dt.replace(year=y).isoformat())"
   ]
  },
  {
   "cell_type": "markdown",
   "id": "e1bf01b4",
   "metadata": {},
   "source": [
    "### Finding ambiguous datetimes\n",
    "\n",
    "At the end of lesson 2, we saw something anomalous in our bike trip duration data. Let's see if we can identify what the problem might be.\n",
    "\n",
    "The data is loaded as onebike_datetimes, and tz has already been imported from dateutil.\n",
    "\n",
    "Loop over the trips in onebike_datetimes:\n",
    "\n",
    "Print any rides whose start is ambiguous.\n",
    "\n",
    "Print any rides whose end is ambiguous."
   ]
  },
  {
   "cell_type": "code",
   "execution_count": null,
   "id": "1c905ec1",
   "metadata": {},
   "outputs": [],
   "source": [
    "# Loop over trips\n",
    "for trip in onebike_datetimes:\n",
    "  # Rides with ambiguous start\n",
    "  if tz.datetime_ambiguous(trip['start']):\n",
    "    print(\"Ambiguous start at \" + str(trip['start']))\n",
    "  # Rides with ambiguous end\n",
    "  if tz.datetime_ambiguous(trip['end']):\n",
    "    print(\"Ambiguous end at \" + str(trip['end']))"
   ]
  },
  {
   "cell_type": "markdown",
   "id": "4acda7ed",
   "metadata": {},
   "source": [
    "### Cleaning daylight saving data with fold\n",
    "\n",
    "As we've just discovered, there is a ride in our data set which is being messed up by a Daylight Savings shift. Let's clean up the data set so we actually have a correct minimum ride length. We can use the fact that we know the end of the ride happened after the beginning to fix up the duration messed up by the shift out of Daylight Savings.\n",
    "\n",
    "Since Python does not handle tz.enfold() when doing arithmetic, we must put our datetime objects into UTC, where ambiguities have been resolved.\n",
    "\n",
    "onebike_datetimes is already loaded and in the right timezone. tz and timezone have been imported. Use tz.UTC for the timezone.\n",
    "\n",
    "Complete the if statement to be true only when a ride's start comes after its end.\n",
    "\n",
    "When start is after end, call tz.enfold() on the end so you know it refers to the one after the daylight savings time change.\n",
    "\n",
    "After the if statement, convert the start and end to UTC so you can make a proper comparison."
   ]
  },
  {
   "cell_type": "code",
   "execution_count": null,
   "id": "2f2ae0d9",
   "metadata": {},
   "outputs": [],
   "source": [
    "trip_durations = []\n",
    "for trip in onebike_datetimes:\n",
    "  # When the start is later than the end, set the fold to be 1\n",
    "  if trip['start'] > trip['end']:\n",
    "    trip['end'] = tz.enfold(trip['end'])\n",
    "  # Convert to UTC\n",
    "  start = trip['start'].astimezone(timezone.utc)\n",
    "  end = trip['end'].astimezone(timezone.utc)\n",
    "\n",
    "  # Subtract the difference\n",
    "  trip_length_seconds = (end-start).total_seconds()\n",
    "  trip_durations.append(trip_length_seconds)\n",
    "\n",
    "# Take the shortest trip duration\n",
    "print(\"Shortest trip: \" + str(min(trip_durations)))"
   ]
  },
  {
   "cell_type": "markdown",
   "id": "991eefb5",
   "metadata": {},
   "source": [
    "### Loading a csv file in Pandas\n"
   ]
  },
  {
   "cell_type": "code",
   "execution_count": null,
   "id": "a24fd50e",
   "metadata": {},
   "outputs": [],
   "source": [
    "# Import pandas\n",
    "import pandas as pd\n",
    "\n",
    "# Load CSV into the rides variable\n",
    "rides = pd.read_csv('capital-onebike.csv', \n",
    "                    parse_dates = ['Start date', 'End date'])\n",
    "\n",
    "# Print the initial (0th) row\n",
    "print(rides.iloc[0])"
   ]
  },
  {
   "cell_type": "markdown",
   "id": "68af3ded",
   "metadata": {},
   "source": [
    "### Making timedelta columns\n"
   ]
  },
  {
   "cell_type": "code",
   "execution_count": null,
   "id": "27842320",
   "metadata": {},
   "outputs": [],
   "source": [
    "# Subtract the start date from the end date\n",
    "ride_durations = rides['End date'] - rides['Start date']\n",
    "\n",
    "# Convert the results to seconds\n",
    "rides['Duration'] = ride_durations.dt.total_seconds()\n",
    "\n",
    "print(rides['Duration'].head())"
   ]
  },
  {
   "cell_type": "markdown",
   "id": "3d86288a",
   "metadata": {},
   "source": [
    "Create a Pandas Series which is True when Start station and End station are the same, and assign the result to joyrides.\n",
    "\n",
    "Calculate the median duration of all rides.\n",
    "\n",
    "Calculate the median duration of joyrides."
   ]
  },
  {
   "cell_type": "code",
   "execution_count": null,
   "id": "ad7b4f39",
   "metadata": {},
   "outputs": [],
   "source": [
    "# Create joyrides\n",
    "joyrides = (rides['Start station'] == rides['End station'])\n",
    "\n",
    "# Total number of joyrides\n",
    "print(\"{} rides were joyrides\".format(joyrides.sum()))\n",
    "\n",
    "# Median of all rides\n",
    "print(\"The median duration overall was {:.2f} seconds\"\\\n",
    "      .format(rides['Duration'].median()))\n",
    "\n",
    "# Median of joyrides\n",
    "print(\"The median duration for joyrides was {:.2f} seconds\"\\\n",
    "      .format(rides[joyrides]['Duration'].median()))"
   ]
  },
  {
   "cell_type": "markdown",
   "id": "82f3dc3e",
   "metadata": {},
   "source": [
    "Resample rides to the daily level, based on the Start date column.\n",
    "\n",
    "Plot the .size() of each result.\n",
    "\n",
    "Since the daily time series is so noisy for this one bike, change the resampling to be monthly."
   ]
  },
  {
   "cell_type": "code",
   "execution_count": null,
   "id": "da2e68e0",
   "metadata": {},
   "outputs": [],
   "source": [
    "# Import matplotlib\n",
    "import matplotlib.pyplot as plt\n",
    "\n",
    "# Resample rides to daily, take the size, plot the results\n",
    "rides.resample('D', on = 'Start date')\\\n",
    "  .size()\\\n",
    "  .plot(ylim = [0, 15])\n",
    "\n",
    "# Show the results\n",
    "plt.show()"
   ]
  },
  {
   "cell_type": "code",
   "execution_count": null,
   "id": "0e3a8231",
   "metadata": {},
   "outputs": [],
   "source": [
    "# Import matplotlib\n",
    "import matplotlib.pyplot as plt\n",
    "\n",
    "# Resample rides to monthly, take the size, plot the results\n",
    "rides.resample('M', on = 'Start date')\\\n",
    "  .size()\\\n",
    "  .plot(ylim = [0, 150])\n",
    "\n",
    "# Show the results\n",
    "plt.show()"
   ]
  },
  {
   "cell_type": "markdown",
   "id": "39b083d7",
   "metadata": {},
   "source": [
    "Set monthly_rides to be a resampled version of rides, by month, based on start date.\n",
    "\n",
    "Use the method .value_counts() to find out how many Member and Casual rides there were, and divide them by the total number of rides per month."
   ]
  },
  {
   "cell_type": "code",
   "execution_count": null,
   "id": "b03fcad9",
   "metadata": {},
   "outputs": [],
   "source": [
    "# Resample rides to be monthly on the basis of Start date\n",
    "monthly_rides = rides.resample('M', on = 'Start date')['Member type']\n",
    "\n",
    "# Take the ratio of the .value_counts() over the total number of rides\n",
    "print(monthly_rides.value_counts() / monthly_rides.size())"
   ]
  },
  {
   "cell_type": "markdown",
   "id": "ab246eeb",
   "metadata": {},
   "source": [
    "### Combining groupby() and resample()\n"
   ]
  },
  {
   "cell_type": "code",
   "execution_count": null,
   "id": "31c7fdb2",
   "metadata": {},
   "outputs": [],
   "source": [
    "# Group rides by member type, and resample to the month\n",
    "grouped = rides.groupby('Member type')\\\n",
    "  .resample('M', on= 'Start date')\n",
    "\n",
    "# Print the median duration for each group\n",
    "print(grouped['Duration'].median())"
   ]
  },
  {
   "cell_type": "markdown",
   "id": "7df421ce",
   "metadata": {},
   "source": [
    "Make the Start date column timezone aware by localizing it to 'America/New_York' while ignoring any ambiguous datetimes."
   ]
  },
  {
   "cell_type": "code",
   "execution_count": null,
   "id": "41ee8d86",
   "metadata": {},
   "outputs": [],
   "source": [
    "# Localize the Start date column to America/New_York\n",
    "rides['Start date'] = rides['Start date'].dt.tz_localize('America/New_York', ambiguous = 'NaT')\n",
    "\n",
    "# Print first value\n",
    "print(rides['Start date'].iloc[0])"
   ]
  },
  {
   "cell_type": "markdown",
   "id": "caf840ec",
   "metadata": {},
   "source": [
    "Now switch the Start date column to the timezone 'Europe/London' using the .dt.tz_convert() method."
   ]
  },
  {
   "cell_type": "code",
   "execution_count": null,
   "id": "c5210dd5",
   "metadata": {},
   "outputs": [],
   "source": [
    "# Localize the Start date column to America/New_York\n",
    "rides['Start date'] = rides['Start date'].dt.tz_localize('America/New_York', \n",
    "                                \t\t\t\t\t\t ambiguous='NaT')\n",
    "\n",
    "# Print first value\n",
    "print(rides['Start date'].iloc[0])\n",
    "\n",
    "# Convert the Start date column to Europe/London\n",
    "rides['Start date'] = rides['Start date'].dt.tz_convert('Europe/London')\n",
    "\n",
    "# Print the new value\n",
    "print(rides['Start date'].iloc[0])"
   ]
  },
  {
   "cell_type": "markdown",
   "id": "7f569601",
   "metadata": {},
   "source": [
    "Add a new column to rides called 'Ride start weekday', which is the weekday of the Start date.\n",
    "\n",
    "Print the median ride duration for each weekday."
   ]
  },
  {
   "cell_type": "code",
   "execution_count": null,
   "id": "da98e66f",
   "metadata": {},
   "outputs": [],
   "source": [
    "# Add a column for the weekday of the start of the ride\n",
    "rides['Ride start weekday'] = rides['Start date'].dt.weekday_name\n",
    "\n",
    "# Print the median trip time per weekday\n",
    "print(rides.groupby('Ride start weekday')['Duration'].median())"
   ]
  },
  {
   "cell_type": "markdown",
   "id": "612f3e35",
   "metadata": {},
   "source": [
    "Calculate the difference in the Start date of the current row and the End date of the previous row and assign it to rides['Time since'].\n",
    "\n",
    "Convert rides['Time since'] to seconds to make it easier to work with.\n",
    "\n",
    "Resample rides to be in monthly buckets according to the Start date.\n",
    "\n",
    "Divide the average by (60*60) to get the number of hours on average that W20529 waited in the dock before being picked up again."
   ]
  },
  {
   "cell_type": "code",
   "execution_count": null,
   "id": "e66cc20c",
   "metadata": {},
   "outputs": [],
   "source": [
    "# Shift the index of the end date up one; now subract it from the start date\n",
    "rides['Time since'] = rides['Start date'] - (rides['End date'].shift(1))\n",
    "\n",
    "# Move from a timedelta to a number of seconds, which is easier to work with\n",
    "rides['Time since'] = rides['Time since'].dt.total_seconds()\n",
    "\n",
    "# Resample to the month\n",
    "monthly = rides.resample('M', on = 'Start date')\n",
    "\n",
    "# Print the average hours between rides each month\n",
    "print(monthly['Time since'].mean()/(60*60))"
   ]
  },
  {
   "cell_type": "code",
   "execution_count": null,
   "id": "d52162b7",
   "metadata": {},
   "outputs": [],
   "source": []
  },
  {
   "cell_type": "code",
   "execution_count": null,
   "id": "98c2d0e4",
   "metadata": {},
   "outputs": [],
   "source": []
  }
 ],
 "metadata": {
  "kernelspec": {
   "display_name": "Python 3 (ipykernel)",
   "language": "python",
   "name": "python3"
  },
  "language_info": {
   "codemirror_mode": {
    "name": "ipython",
    "version": 3
   },
   "file_extension": ".py",
   "mimetype": "text/x-python",
   "name": "python",
   "nbconvert_exporter": "python",
   "pygments_lexer": "ipython3",
   "version": "3.9.6"
  }
 },
 "nbformat": 4,
 "nbformat_minor": 5
}
